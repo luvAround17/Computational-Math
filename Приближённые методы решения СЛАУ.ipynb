{
 "cells": [
  {
   "cell_type": "code",
   "execution_count": 51,
   "metadata": {},
   "outputs": [],
   "source": [
    "import locale\n",
    "locale.setlocale(locale.LC_ALL, \"ru_RU\")\n",
    "\n",
    "# Функция вывода матрицы для перезаписи в LaTex:\n",
    "\n",
    "def print_matrix(matrix):\n",
    "    if len(matrix.shape) == 2:\n",
    "        for i in range(matrix.shape[0]):\n",
    "            row = ''\n",
    "            for j in range(matrix.shape[1]):\n",
    "                kek = matrix[i][j]\n",
    "                if kek > 0:\n",
    "                    row += locale.str((round(kek, 5))) + ' & '\n",
    "                else:\n",
    "                    row += locale.str((round(kek, 4))) + ' & '\n",
    "            row = row[:-2]\n",
    "            row += '\\\\\\\\'\n",
    "            print(row)\n",
    "    elif len(matrix.shape) == 1:\n",
    "        row = ''\n",
    "        for i in range(matrix.shape[0]):\n",
    "            kek = matrix[i]\n",
    "            if kek > 0:\n",
    "                row += locale.str((round(kek, 5))) + ' \\\\\\\\ '\n",
    "            else:\n",
    "                row += locale.str((round(kek, 4))) + ' \\\\\\\\ '\n",
    "        print(row)"
   ]
  },
  {
   "cell_type": "code",
   "execution_count": 79,
   "metadata": {},
   "outputs": [
    {
     "name": "stdout",
     "output_type": "stream",
     "text": [
      "beta: 1.08\n",
      "\n",
      "Матрица А:\n",
      "[10.8  1.   2.   3. ]\n",
      "[ 1.  10.8  3.  -2. ]\n",
      "[ 2.  -3.  10.8  1. ]\n",
      "[ 3.   2.  -1.  10.8]\n",
      "\n",
      "Вектор b:\n",
      " [16.8 12.8 10.8 14.8]\n",
      "\n",
      "Матрица D:\n",
      "[0.092593 0.       0.       0.      ]\n",
      "[0.       0.092593 0.       0.      ]\n",
      "[0.       0.       0.092593 0.      ]\n",
      "[0.       0.       0.       0.092593]\n",
      "0,09259 & 0 & 0 & 0 \\\\\n",
      "0 & 0,09259 & 0 & 0 \\\\\n",
      "0 & 0 & 0,09259 & 0 \\\\\n",
      "0 & 0 & 0 & 0,09259 \\\\\n",
      "\n",
      "Матрица F:\n",
      "[-4.40000e-06 -9.25930e-02 -1.85186e-01 -2.77779e-01]\n",
      "[-9.25930e-02 -4.40000e-06 -2.77779e-01  1.85186e-01]\n",
      "[-1.85186e-01  2.77779e-01 -4.40000e-06 -9.25930e-02]\n",
      "[-2.77779e-01 -1.85186e-01  9.25930e-02 -4.40000e-06]\n",
      "-0 & -0,0926 & -0,1852 & -0,2778 \\\\\n",
      "-0,0926 & -0 & -0,2778 & 0,18519 \\\\\n",
      "-0,1852 & 0,27778 & -0 & -0,0926 \\\\\n",
      "-0,2778 & -0,1852 & 0,09259 & -0 \\\\\n",
      "\n",
      "Вектор g = [1.5555624 1.1851904 1.0000044 1.3703764]\n",
      "1,55556 \\\\ 1,18519 \\\\ 1 \\\\ 1,37038 \\\\ \n",
      "\n",
      "Теоретическое количество итераций: 10\n",
      "\n",
      "x_1:\n",
      "1,55556 \\\\ 1,18519 \\\\ 1 \\\\ 1,37038 \\\\ \n",
      "e: 0.55556 \n",
      "\n",
      "x_2:\n",
      "0,87997 \\\\ 1,01715 \\\\ 0,91427 \\\\ 0,81138 \\\\ \n",
      "e: 0.18862 \n",
      "\n",
      "x_3:\n",
      "1,06668 \\\\ 1 \\\\ 1,04446 \\\\ 1,02223 \\\\ \n",
      "e: 0.06668 \n",
      "\n",
      "x_4:\n",
      "0,98559 \\\\ 0,98559 \\\\ 0,98559 \\\\ 0,98559 \\\\ \n",
      "e: 0.01441 \n",
      "\n",
      "x_5:\n",
      "1,008 \\\\ 1,00267 \\\\ 1 \\\\ 1,00534 \\\\ \n",
      "e: 0.008 \n",
      "\n",
      "Эмпирическое количество итераций: 5\n"
     ]
    }
   ],
   "source": [
    "# Задание 1.1:\n",
    "# Найти решение системы линейных уравнений методом простой итерации с точностью 0.01\n",
    "import numpy as np\n",
    "N, n = 13, 53\n",
    "beta = 1 - 0.02 * (49 - n)\n",
    "print(f\"beta: {beta}\\n\")\n",
    "\n",
    "# Исходные данные:\n",
    "A = np.array([[10 * beta, 1, 2, 3],\n",
    "              [1, 10 * beta, 3, -2],\n",
    "              [2, -3, 10 * beta, 1],\n",
    "              [3, 2, -1, 10 * beta]])\n",
    "\n",
    "print(\"Матрица А:\", *A, sep='\\n')\n",
    "\n",
    "# Вывод вектора b\n",
    "x = np.array([1, 1, 1, 1])\n",
    "b = np.dot(A, x)\n",
    "print(\"\\nВектор b:\\n\", b)\n",
    "\n",
    "# Приведение исходной СЛАУ A*x = b к равносильной x = F*x + g:\n",
    "# где F =  E - D*A, ||F|| < 1 и g = D*b\n",
    "\n",
    "# Матрица D\n",
    "D = np.array([[round(1 / A[i][j], 6) if i == j else 0 for j in range(len(A[i]))] for i in range(len(A))])\n",
    "print(\"\\nМатрица D:\", *D, sep='\\n', end='\\n')\n",
    "print_matrix(D)\n",
    "\n",
    "F = np.eye(4) - D.dot(A)\n",
    "print(\"\\nМатрица F:\", *F, sep='\\n')\n",
    "print_matrix(F)\n",
    "        \n",
    "g = D.dot(b)\n",
    "print(\"\\nВектор g =\", g)\n",
    "print_matrix(g)\n",
    "\n",
    "# Решение теоретического неравенства оценки:\n",
    "F_cheb = max(np.sum(abs(F), axis=1))\n",
    "G_cheb = max(abs(g))\n",
    "\n",
    "k = 0\n",
    "while True:\n",
    "    x = F_cheb ** k / (1 - F_cheb) * G_cheb\n",
    "    if abs(x) < 0.01:\n",
    "        break\n",
    "    k += 1\n",
    "print(f\"\\nТеоретическое количество итераций: {k}\\n\")\n",
    "\n",
    "# Решение данной СЛАУ:\n",
    "x = np.zeros(4)\n",
    "error = 1\n",
    "i = 0\n",
    "while error > 0.01:\n",
    "    i += 1\n",
    "    x = F.dot(x) + g\n",
    "    error = max(abs(x - [1, 1, 1, 1]))\n",
    "    print(f'x_{i}:')\n",
    "    print_matrix(x)\n",
    "    print('e:', round(error, 5), '\\n')\n",
    "print(\"Эмпирическое количество итераций:\", i)"
   ]
  },
  {
   "cell_type": "code",
   "execution_count": 70,
   "metadata": {},
   "outputs": [
    {
     "name": "stdout",
     "output_type": "stream",
     "text": [
      "Q:\n",
      "-0 & 0 & 0 & 0 \\\\\n",
      "-0,0926 & -0 & 0 & 0 \\\\\n",
      "-0,1852 & 0,27778 & -0 & 0 \\\\\n",
      "-0,2778 & -0,1852 & 0,09259 & -0 \\\\\n",
      "\n",
      "P:\n",
      "0 & -0,0926 & -0,1852 & -0,2778 \\\\\n",
      "0 & 0 & -0,2778 & 0,18519 \\\\\n",
      "0 & 0 & 0 & -0,0926 \\\\\n",
      "0 & 0 & 0 & 0 \\\\\n"
     ]
    }
   ],
   "source": [
    "# Задание 1.2\n",
    "# Найти решение системы линейных уравнений методом Зейделя с точностью 0.01\n",
    "\n",
    "# Матрица D - диагональная от элементов матрицы F:\n",
    "D = np.zeros((4, 4))\n",
    "for i in range(4):\n",
    "    D[i][i] = F[i][i]\n",
    "\n",
    "# Матрица B - нижнетреугольная от матрицы F:\n",
    "B = np.tril(F) + D\n",
    "\n",
    "# Вспомогательные расчёты:\n",
    "Q = B - D\n",
    "P = F - Q\n",
    "\n",
    "# Вывод:\n",
    "print('Q:')\n",
    "print_matrix(Q)\n",
    "print('\\nP:')\n",
    "print_matrix(P)"
   ]
  },
  {
   "cell_type": "code",
   "execution_count": 80,
   "metadata": {},
   "outputs": [
    {
     "name": "stdout",
     "output_type": "stream",
     "text": [
      "y_1:\n",
      "1,55556 \\\\ 1,04115 \\\\ 1,00114 \\\\ 0,83816 \\\\ \n",
      "e =  0.55556 \n",
      "\n",
      "y_2:\n",
      "1,04093 \\\\ 0,96592 \\\\ 0,99794 \\\\ 0,99475 \\\\ \n",
      "e =  0.04093 \n",
      "\n",
      "y_3:\n",
      "1,005 \\\\ 0,99914 \\\\ 0,99932 \\\\ 0,99871 \\\\ \n",
      "e =  0.005 \n",
      "\n"
     ]
    }
   ],
   "source": [
    "# Решение СЛАУ методом Зейделя:\n",
    "\n",
    "# y - пустая матрица, которую будем заполнять решениями по итерациям\n",
    "y = np.zeros(4)\n",
    "\n",
    "# Единичная матрица:\n",
    "E = np.eye(4)\n",
    "error = 1\n",
    "i = 0\n",
    "\n",
    "while error > 0.01:\n",
    "    i += 1\n",
    "    y = np.linalg.inv(E - Q) @ P @ y + np.linalg.inv(E - Q) @ g\n",
    "    error = max(abs(y - [1, 1, 1, 1]))\n",
    "    print(f'y_{i}:')\n",
    "    print_matrix(y)\n",
    "    print('e = ', round(error, 5), '\\n')"
   ]
  },
  {
   "cell_type": "code",
   "execution_count": 60,
   "metadata": {},
   "outputs": [
    {
     "data": {
      "image/png": "[encoded data removed]",
      "text/plain": [
       "<Figure size 648x720 with 1 Axes>"
      ]
     },
     "metadata": {
      "needs_background": "light"
     },
     "output_type": "display_data"
    }
   ],
   "source": [
    "# Задание 2\n",
    "import numpy as np\n",
    "import matplotlib.pyplot as plt\n",
    "\n",
    "# Все исходные данные:\n",
    "epsilon = 0.0001\n",
    "n = 53\n",
    "N, alpha = 13, 0.003 * (n - 50)\n",
    "x = np.linspace(-15, 30, 500)\n",
    "y = (N + 5.2 + (-1)**N * alpha) * x**3 - (2 * N**2 + 10.4 * N + (-1)**(N + 1) * alpha) * x**2 - N**2 * (N + 5.2)*(x - 2*N) + (-1)**N * alpha\n",
    "\n",
    "# Уравнение имеет вид: 18.191*x^3 - 473.209*x^2 - 3075.8 * (x - 26) - 0.009\n",
    "\n",
    "# Корни получаются: \n",
    "#x1 = -13.0009886925878\n",
    "#x2 = 12.9965401560624\n",
    "#x2 = 26.017806790607\n",
    "\n",
    "# График левой части уравнения:\n",
    "plt.figure(figsize=(9,10))\n",
    "plt.grid()\n",
    "plt.axhline(y=0, color='k')    \n",
    "plt.axvline(x=0, color='k')\n",
    "plt.plot(x, \n",
    "         y,\n",
    "         color = 'red')\n",
    "plt.show()"
   ]
  },
  {
   "cell_type": "code",
   "execution_count": 64,
   "metadata": {},
   "outputs": [
    {
     "name": "stdout",
     "output_type": "stream",
     "text": [
      "1-ая итерация, -13.2153825959 - корень, 0.2143939033 - epsilon значение\n",
      "2-ая итерация, -13.0038745314 - корень, 0.0028858388 - epsilon значение\n",
      "3-ая итерация, -13.0009892341 - корень, 5.415e-07 - epsilon значение\n"
     ]
    }
   ],
   "source": [
    "# Метод касательных: [берём отрезок от -15 до -10] - Левый корень\n",
    "from scipy import misc\n",
    "def f(x):\n",
    "    return 18.191 * x**3 - 473.209 * x**2 - 3075.8 * (x - 26) - 0.009\n",
    "\n",
    "x_otv = -13.0009886925878\n",
    "x = -15\n",
    "i = 0\n",
    "while True:\n",
    "    i += 1\n",
    "    x = x - f(x) / sc.misc.derivative(f, x, dx = 1e-10)\n",
    "    print(f\"{i}-ая итерация, {round(x, 10)} - корень, {round(abs(x - x_otv), 10)} - epsilon значение\")\n",
    "    if abs(x - x_otv) < epsilon:\n",
    "        break"
   ]
  },
  {
   "cell_type": "code",
   "execution_count": 65,
   "metadata": {},
   "outputs": [
    {
     "name": "stdout",
     "output_type": "stream",
     "text": [
      "1-ая итерация, 23.2326485789 - корень, 2.7851582117 - epsilon значение\n",
      "2-ая итерация, 25.0048321245 - корень, 1.0129746661 - epsilon значение\n",
      "3-ая итерация, 25.6892817752 - корень, 0.3285250154 - epsilon значение\n",
      "4-ая итерация, 25.9155981832 - корень, 0.1022086075 - epsilon значение\n",
      "5-ая итерация, 25.9864327977 - корень, 0.031373993 - epsilon значение\n",
      "6-ая итерация, 26.0082163546 - корень, 0.009590436 - epsilon значение\n",
      "7-ая итерация, 26.0148789302 - корень, 0.0029278604 - epsilon значение\n",
      "8-ая итерация, 26.0169132953 - корень, 0.0008934953 - epsilon значение\n",
      "9-ая итерация, 26.0175341552 - корень, 0.0002726354 - epsilon значение\n",
      "10-ая итерация, 26.0177236034 - корень, 0.0000831872 - epsilon значение\n"
     ]
    }
   ],
   "source": [
    "# Метод секущих: [берём отрезок от 20 до 30] - Правый корень\n",
    "\n",
    "x_otv = 26.017806790607\n",
    "x = 20\n",
    "b = 30\n",
    "i = 0\n",
    "while True:\n",
    "    i += 1\n",
    "    x = x - f(x) * (x - b) / (f(x) - f(b))\n",
    "    print(f\"{i}-ая итерация, {round(x, 10)} - корень, {('%.10f' % round(abs(x - x_otv), 10)).rstrip('0').rstrip('.')} - epsilon значение\")\n",
    "    if abs(x - x_otv) < epsilon:\n",
    "        break"
   ]
  },
  {
   "cell_type": "code",
   "execution_count": 66,
   "metadata": {},
   "outputs": [
    {
     "name": "stdout",
     "output_type": "stream",
     "text": [
      "1-ая итерация, 12.5 - корень, 0.4965401561 - epsilon значение\n",
      "2-ая итерация, 13.75 - корень, 0.7534598439 - epsilon значение\n",
      "3-ая итерация, 13.125 - корень, 0.1284598439 - epsilon значение\n",
      "4-ая итерация, 12.8125 - корень, 0.1840401561 - epsilon значение\n",
      "5-ая итерация, 12.96875 - корень, 0.0277901561 - epsilon значение\n",
      "6-ая итерация, 13.046875 - корень, 0.0503348439 - epsilon значение\n",
      "7-ая итерация, 13.0078125 - корень, 0.0112723439 - epsilon значение\n",
      "8-ая итерация, 12.98828125 - корень, 0.0082589061 - epsilon значение\n",
      "9-ая итерация, 12.998046875 - корень, 0.0015067189 - epsilon значение\n",
      "10-ая итерация, 12.9931640625 - корень, 0.0033760936 - epsilon значение\n",
      "11-ая итерация, 12.9956054688 - корень, 0.0009346873 - epsilon значение\n",
      "12-ая итерация, 12.9968261719 - корень, 0.0002860158 - epsilon значение\n",
      "13-ая итерация, 12.9962158203 - корень, 0.0003243357 - epsilon значение\n",
      "14-ая итерация, 12.9965209961 - корень, 0.00001916 - epsilon значение\n"
     ]
    }
   ],
   "source": [
    "# Метод деления отрезка пополам: [берём отрезок от 10 до 15] - Серединный корень\n",
    "a = 10\n",
    "b = 15\n",
    "i = 0\n",
    "x_otv = 12.9965401560624\n",
    "while True:\n",
    "    i += 1\n",
    "    x = (a + b) / 2\n",
    "    print(f\"{i}-ая итерация, {round(x, 10)} - корень, {('%.10f' % round(abs(x - x_otv), 10)).rstrip('0').rstrip('.')} - epsilon значение\")\n",
    "    if abs(x - x_otv) < epsilon:\n",
    "        break\n",
    "    if f(x) > 0:\n",
    "        a = x\n",
    "    else:\n",
    "        b = x"
   ]
  },
  {
   "cell_type": "code",
   "execution_count": null,
   "metadata": {},
   "outputs": [],
   "source": []
  }
 ],
 "metadata": {
  "kernelspec": {
   "display_name": "Python 3",
   "language": "python",
   "name": "python3"
  },
  "language_info": {
   "codemirror_mode": {
    "name": "ipython",
    "version": 3
   },
   "file_extension": ".py",
   "mimetype": "text/x-python",
   "name": "python",
   "nbconvert_exporter": "python",
   "pygments_lexer": "ipython3",
   "version": "3.7.6"
  }
 },
 "nbformat": 4,
 "nbformat_minor": 4
}
