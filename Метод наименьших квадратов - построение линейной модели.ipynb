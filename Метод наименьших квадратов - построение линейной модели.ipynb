{
 "cells": [
  {
   "cell_type": "code",
   "execution_count": 229,
   "metadata": {
    "scrolled": false
   },
   "outputs": [
    {
     "name": "stdout",
     "output_type": "stream",
     "text": [
      "\n",
      "                             OLS Regression Results                            \n",
      "==============================================================================\n",
      "Dep. Variable:                      y   R-squared:                       1.000\n",
      "Model:                            OLS   Adj. R-squared:                  1.000\n",
      "Method:                 Least Squares   F-statistic:                 1.048e+06\n",
      "Date:                Mon, 09 Oct 2023   Prob (F-statistic):           3.57e-36\n",
      "Time:                        21:25:59   Log-Likelihood:                 94.505\n",
      "No. Observations:                  20   AIC:                            -175.0\n",
      "Df Residuals:                      13   BIC:                            -168.0\n",
      "Df Model:                           6                                         \n",
      "Covariance Type:            nonrobust                                         \n",
      "==============================================================================\n",
      "                 coef    std err          t      P>|t|      [0.025      0.975]\n",
      "------------------------------------------------------------------------------\n",
      "const         -0.0076      0.007     -1.151      0.270      -0.022       0.007\n",
      "z1            -0.0005      0.003     -0.180      0.860      -0.006       0.005\n",
      "z2             2.9996      0.002   1392.674      0.000       2.995       3.004\n",
      "z3             3.0054      0.002   1439.413      0.000       3.001       3.010\n",
      "z4             3.0002      0.002   1351.702      0.000       2.995       3.005\n",
      "z5             0.0005      0.002      0.243      0.812      -0.004       0.005\n",
      "z6             0.0002      0.002      0.103      0.920      -0.004       0.004\n",
      "==============================================================================\n",
      "Omnibus:                        2.225   Durbin-Watson:                   1.482\n",
      "Prob(Omnibus):                  0.329   Jarque-Bera (JB):                1.635\n",
      "Skew:                           0.685   Prob(JB):                        0.441\n",
      "Kurtosis:                       2.708   Cond. No.                         43.2\n",
      "==============================================================================\n",
      "\n",
      "Warnings:\n",
      "[1] Standard Errors assume that the covariance matrix of the errors is correctly specified.\n"
     ]
    }
   ],
   "source": [
    "import pandas as pd\n",
    "import statsmodels.api as sm\n",
    "\n",
    "alpha = (53 - 48) / 40\n",
    "y_alpha = [13.52, 12.42, 13.23, 16.51, 12.30, 13.16, 14.90, 12.14, 10.58, 12.10, 13.29, 11.71, 14.59, 12.12, 11.00, 10.90, 14.87, 13.06, 13.38, 11.15]\n",
    "y_normalized = [x - alpha  for x in y_alpha]\n",
    "\n",
    "df = pd.DataFrame(\n",
    "{'z1': [1.158574, 1.238868, 1.564043, 1.737266, 1.364544, 1.535295, 1.780725, 1.135044, 1.246498, 1.416456, 1.611866, 1.520585, 1.229896, 1.726829, 1.77279, 1.418256, 1.119724, 1.728446, 1.161107, 1.963561],\n",
    " 'z2': [1.194067, 1.913419, 1.561357, 1.798975, 1.03122, 1.742973, 1.306711, 1.139164, 1.114597, 1.349223, 1.972991, 1.427992, 1.304392, 1.866756, 1.363353, 1.072481, 1.947356, 1.802332, 1.359294, 1.271859],\n",
    " 'z3': [1.745872, 1.182653, 1.070589, 1.952239, 1.380596, 1.580401, 1.972594, 1.686178, 1.079653, 1.68038, 1.443953, 1.464156, 1.852107, 1.074984, 1.227454, 1.123447, 1.372631, 1.365001, 1.956206, 1.250008],\n",
    " 'z4': [1.566271, 1.044649, 1.778954, 1.752281, 1.688101, 1.063356, 1.68627, 1.220069, 1.333415, 1.003235, 1.014008, 1.011505, 1.705496, 1.09888, 1.076754, 1.438917, 1.635578, 1.184759, 1.143406, 1.19367],\n",
    " 'z5': [1.825556, 1.304209, 1.226447, 1.247871, 1.987396, 1.999237, 1.582629, 1.034577, 1.054445, 1.471908, 1.91699, 1.108341, 1.725639, 1.983154, 1.656758, 1.059481, 1.94058, 1.119633, 1.49144, 1.466262],\n",
    " 'z6': [1.942503, 1.924039, 1.824122, 1.54796, 1.058504, 1.425459, 1.767235, 1.019745, 1.156743, 1.095523, 1.182531, 1.981536, 1.21482, 1.256935, 1.675253, 1.080325, 1.112827, 1.880032, 1.688437, 1.624409],\n",
    " 'y': y_alpha\n",
    "})\n",
    "\n",
    "# response variable\n",
    "y = df['y']\n",
    "\n",
    "# predictor variables\n",
    "x = df[['z1', 'z2', 'z3', 'z4', 'z5', 'z6']]\n",
    "\n",
    "# add constant to predictor variables\n",
    "x = sm.add_constant(x)\n",
    "\n",
    "# fit linear regression model\n",
    "model = sm.OLS(y, x).fit()\n",
    "\n",
    "# view model summary\n",
    "print('\\n', model.summary())"
   ]
  },
  {
   "cell_type": "code",
   "execution_count": 230,
   "metadata": {},
   "outputs": [
    {
     "name": "stdout",
     "output_type": "stream",
     "text": [
      "\n",
      "                             OLS Regression Results                            \n",
      "==============================================================================\n",
      "Dep. Variable:                      y   R-squared:                       1.000\n",
      "Model:                            OLS   Adj. R-squared:                  1.000\n",
      "Method:                 Least Squares   F-statistic:                 1.354e+06\n",
      "Date:                Mon, 09 Oct 2023   Prob (F-statistic):           2.88e-39\n",
      "Time:                        21:26:00   Log-Likelihood:                 94.496\n",
      "No. Observations:                  20   AIC:                            -177.0\n",
      "Df Residuals:                      14   BIC:                            -171.0\n",
      "Df Model:                           5                                         \n",
      "Covariance Type:            nonrobust                                         \n",
      "==============================================================================\n",
      "                 coef    std err          t      P>|t|      [0.025      0.975]\n",
      "------------------------------------------------------------------------------\n",
      "const         -0.0075      0.006     -1.199      0.250      -0.021       0.006\n",
      "z1            -0.0004      0.002     -0.163      0.873      -0.005       0.005\n",
      "z2             2.9997      0.002   1482.174      0.000       2.995       3.004\n",
      "z3             3.0054      0.002   1522.960      0.000       3.001       3.010\n",
      "z4             3.0002      0.002   1402.187      0.000       2.996       3.005\n",
      "z5             0.0004      0.002      0.231      0.821      -0.003       0.004\n",
      "==============================================================================\n",
      "Omnibus:                        2.118   Durbin-Watson:                   1.480\n",
      "Prob(Omnibus):                  0.347   Jarque-Bera (JB):                1.505\n",
      "Skew:                           0.661   Prob(JB):                        0.471\n",
      "Kurtosis:                       2.754   Cond. No.                         39.1\n",
      "==============================================================================\n",
      "\n",
      "Warnings:\n",
      "[1] Standard Errors assume that the covariance matrix of the errors is correctly specified.\n"
     ]
    }
   ],
   "source": [
    "# predictor variables\n",
    "x = df[['z1', 'z2', 'z3', 'z4', 'z5']]\n",
    "\n",
    "# add constant to predictor variables\n",
    "x = sm.add_constant(x)\n",
    "\n",
    "# fit linear regression model\n",
    "model = sm.OLS(y, x).fit()\n",
    "\n",
    "# view model summary\n",
    "print('\\n', model.summary())"
   ]
  },
  {
   "cell_type": "code",
   "execution_count": 231,
   "metadata": {
    "scrolled": false
   },
   "outputs": [
    {
     "name": "stdout",
     "output_type": "stream",
     "text": [
      "\n",
      "                             OLS Regression Results                            \n",
      "==============================================================================\n",
      "Dep. Variable:                      y   R-squared:                       1.000\n",
      "Model:                            OLS   Adj. R-squared:                  1.000\n",
      "Method:                 Least Squares   F-statistic:                 1.810e+06\n",
      "Date:                Mon, 09 Oct 2023   Prob (F-statistic):           2.01e-42\n",
      "Time:                        21:26:01   Log-Likelihood:                 94.477\n",
      "No. Observations:                  20   AIC:                            -179.0\n",
      "Df Residuals:                      15   BIC:                            -174.0\n",
      "Df Model:                           4                                         \n",
      "Covariance Type:            nonrobust                                         \n",
      "==============================================================================\n",
      "                 coef    std err          t      P>|t|      [0.025      0.975]\n",
      "------------------------------------------------------------------------------\n",
      "const         -0.0080      0.005     -1.612      0.128      -0.019       0.003\n",
      "z2             2.9996      0.002   1559.804      0.000       2.996       3.004\n",
      "z3             3.0055      0.002   1588.000      0.000       3.001       3.010\n",
      "z4             3.0002      0.002   1452.488      0.000       2.996       3.005\n",
      "z5             0.0004      0.002      0.242      0.812      -0.003       0.004\n",
      "==============================================================================\n",
      "Omnibus:                        1.738   Durbin-Watson:                   1.482\n",
      "Prob(Omnibus):                  0.419   Jarque-Bera (JB):                1.311\n",
      "Skew:                           0.603   Prob(JB):                        0.519\n",
      "Kurtosis:                       2.656   Cond. No.                         29.6\n",
      "==============================================================================\n",
      "\n",
      "Warnings:\n",
      "[1] Standard Errors assume that the covariance matrix of the errors is correctly specified.\n"
     ]
    }
   ],
   "source": [
    "# predictor variables\n",
    "x = df[['z2', 'z3', 'z4', 'z5']]\n",
    "\n",
    "# add constant to predictor variables\n",
    "x = sm.add_constant(x)\n",
    "\n",
    "# fit linear regression model\n",
    "model = sm.OLS(y, x).fit()\n",
    "\n",
    "# view model summary\n",
    "print('\\n', model.summary())"
   ]
  },
  {
   "cell_type": "code",
   "execution_count": 232,
   "metadata": {},
   "outputs": [
    {
     "name": "stdout",
     "output_type": "stream",
     "text": [
      "\n",
      "                             OLS Regression Results                            \n",
      "==============================================================================\n",
      "Dep. Variable:                      y   R-squared:                       1.000\n",
      "Model:                            OLS   Adj. R-squared:                  1.000\n",
      "Method:                 Least Squares   F-statistic:                 2.564e+06\n",
      "Date:                Mon, 09 Oct 2023   Prob (F-statistic):           1.17e-45\n",
      "Time:                        21:26:01   Log-Likelihood:                 94.439\n",
      "No. Observations:                  20   AIC:                            -180.9\n",
      "Df Residuals:                      16   BIC:                            -176.9\n",
      "Df Model:                           3                                         \n",
      "Covariance Type:            nonrobust                                         \n",
      "==============================================================================\n",
      "                 coef    std err          t      P>|t|      [0.025      0.975]\n",
      "------------------------------------------------------------------------------\n",
      "const         -0.0078      0.005     -1.648      0.119      -0.018       0.002\n",
      "z2             2.9997      0.002   1683.691      0.000       2.996       3.004\n",
      "z3             3.0055      0.002   1652.631      0.000       3.002       3.009\n",
      "z4             3.0002      0.002   1503.746      0.000       2.996       3.004\n",
      "==============================================================================\n",
      "Omnibus:                        1.365   Durbin-Watson:                   1.520\n",
      "Prob(Omnibus):                  0.505   Jarque-Bera (JB):                1.061\n",
      "Skew:                           0.532   Prob(JB):                        0.588\n",
      "Kurtosis:                       2.624   Cond. No.                         25.4\n",
      "==============================================================================\n",
      "\n",
      "Warnings:\n",
      "[1] Standard Errors assume that the covariance matrix of the errors is correctly specified.\n"
     ]
    }
   ],
   "source": [
    "# predictor variables\n",
    "x = df[['z2', 'z3', 'z4']]\n",
    "\n",
    "# add constant to predictor variables\n",
    "x = sm.add_constant(x)\n",
    "\n",
    "# fit linear regression model\n",
    "model = sm.OLS(y, x).fit()\n",
    "\n",
    "# view model summary\n",
    "print('\\n', model.summary())"
   ]
  },
  {
   "cell_type": "code",
   "execution_count": 233,
   "metadata": {},
   "outputs": [],
   "source": [
    "from math import sqrt\n",
    "\n",
    "def own_var(data_0, data_1):\n",
    "    sum_squares = 0\n",
    "    for x, y in zip(data_0, data_1):\n",
    "        sum_squares += (x - y)**2\n",
    "    return sqrt(sum_squares)"
   ]
  },
  {
   "cell_type": "code",
   "execution_count": 234,
   "metadata": {
    "scrolled": false
   },
   "outputs": [
    {
     "name": "stdout",
     "output_type": "stream",
     "text": [
      "\n",
      "                             OLS Regression Results                            \n",
      "==============================================================================\n",
      "Dep. Variable:                      y   R-squared:                       1.000\n",
      "Model:                            OLS   Adj. R-squared:                  1.000\n",
      "Method:                 Least Squares   F-statistic:                 2.564e+06\n",
      "Date:                Mon, 09 Oct 2023   Prob (F-statistic):           1.17e-45\n",
      "Time:                        21:26:04   Log-Likelihood:                 94.439\n",
      "No. Observations:                  20   AIC:                            -180.9\n",
      "Df Residuals:                      16   BIC:                            -176.9\n",
      "Df Model:                           3                                         \n",
      "Covariance Type:            nonrobust                                         \n",
      "==============================================================================\n",
      "                 coef    std err          t      P>|t|      [0.025      0.975]\n",
      "------------------------------------------------------------------------------\n",
      "const         -0.0078      0.005     -1.648      0.119      -0.018       0.002\n",
      "z2             2.9997      0.002   1683.691      0.000       2.996       3.004\n",
      "z3             3.0055      0.002   1652.631      0.000       3.002       3.009\n",
      "z4             3.0002      0.002   1503.746      0.000       2.996       3.004\n",
      "==============================================================================\n",
      "Omnibus:                        1.365   Durbin-Watson:                   1.520\n",
      "Prob(Omnibus):                  0.505   Jarque-Bera (JB):                1.061\n",
      "Skew:                           0.532   Prob(JB):                        0.588\n",
      "Kurtosis:                       2.624   Cond. No.                         25.4\n",
      "==============================================================================\n",
      "\n",
      "Warnings:\n",
      "[1] Standard Errors assume that the covariance matrix of the errors is correctly specified.\n"
     ]
    }
   ],
   "source": [
    "# Исходя из данных полученных в результате регрессионного анализа можно сказать что наиболее значимыми факторами \n",
    "# являются факторы [z2, z3, z4]\n",
    "\n",
    "# Получается:\n",
    "\n",
    "# predictor variables\n",
    "x = df[['z2', 'z3', 'z4']]\n",
    "\n",
    "# add constant to predictor variables\n",
    "x = sm.add_constant(x)\n",
    "\n",
    "# fit linear regression model\n",
    "model = sm.OLS(y, x).fit()\n",
    "\n",
    "# view model summary\n",
    "print('\\n', model.summary())\n"
   ]
  },
  {
   "cell_type": "code",
   "execution_count": 235,
   "metadata": {
    "scrolled": false
   },
   "outputs": [
    {
     "name": "stdout",
     "output_type": "stream",
     "text": [
      "Предсказанное значение y:\n",
      "(1, 13.395)\n",
      "(2, 12.295)\n",
      "(3, 13.105)\n",
      "(4, 16.388)\n",
      "(5, 12.174)\n",
      "(6, 13.036)\n",
      "(7, 14.775)\n",
      "(8, 12.012)\n",
      "(9, 10.456)\n",
      "(10, 11.975)\n",
      "(11, 13.167)\n",
      "(12, 11.586)\n",
      "(13, 14.463)\n",
      "(14, 11.994)\n",
      "(15, 10.876)\n",
      "(16, 10.778)\n",
      "(17, 14.741)\n",
      "(18, 12.93)\n",
      "(19, 13.254)\n",
      "(20, 11.02)\n",
      "\n",
      "Значение y:\n",
      "(1, 13.395)\n",
      "(2, 12.295)\n",
      "(3, 13.105)\n",
      "(4, 16.385)\n",
      "(5, 12.175)\n",
      "(6, 13.035)\n",
      "(7, 14.775)\n",
      "(8, 12.015)\n",
      "(9, 10.455)\n",
      "(10, 11.975)\n",
      "(11, 13.165)\n",
      "(12, 11.585)\n",
      "(13, 14.465)\n",
      "(14, 11.995)\n",
      "(15, 10.875)\n",
      "(16, 10.775)\n",
      "(17, 14.745)\n",
      "(18, 12.935)\n",
      "(19, 13.255)\n",
      "(20, 11.025)\n",
      "\n",
      "Исходя из отчёта линейной регресии стандартное отклонение составляет 0.0097\n"
     ]
    }
   ],
   "source": [
    "# Из чего можно сказать, что уравнение тренда имеет вид:\n",
    "# y = -0.132 + 2.9997 * z2 + 3.0055 * z3 + 3.0002 * z4\n",
    "\n",
    "# Значащие факторы:\n",
    "z2 = [1.194067, 1.913419, 1.561357, 1.798975, 1.03122, 1.742973, 1.306711, 1.139164, 1.114597, 1.349223, 1.972991, 1.427992, 1.304392, 1.866756, 1.363353, 1.072481, 1.947356, 1.802332, 1.359294, 1.271859]\n",
    "z3 = [1.745872, 1.182653, 1.070589, 1.952239, 1.380596, 1.580401, 1.972594, 1.686178, 1.079653, 1.68038, 1.443953, 1.464156, 1.852107, 1.074984, 1.227454, 1.123447, 1.372631, 1.365001, 1.956206, 1.250008]\n",
    "z4 = [1.566271, 1.044649, 1.778954, 1.752281, 1.688101, 1.063356, 1.68627, 1.220069, 1.333415, 1.003235, 1.014008, 1.011505, 1.705496, 1.09888, 1.076754, 1.438917, 1.635578, 1.184759, 1.143406, 1.19367]\n",
    "\n",
    "# Y-пересечение:\n",
    "dot = -0.133\n",
    "\n",
    "# Заполнение данных тренда:\n",
    "z_2 = [2.9997 * z for z in z2]\n",
    "z_3 = [3.0055 * z for z in z3]\n",
    "z_4 = [3.0002 * z for z in z4]\n",
    "predicted_y = [dot + z[0] + z[1] + z[2] for z in zip(z_2, z_3, z_4)]\n",
    "\n",
    "# Вывод данных:\n",
    "print(\"Предсказанное значение y:\", *zip(range(1, 21), map(lambda x: round(x, 3), predicted_y)), sep='\\n', end='\\n\\n')\n",
    "print(\"Значение y:\",*zip(range(1, 21), y_normalized), sep='\\n')\n",
    "print(\"\\nИсходя из отчёта линейной регресии стандартное отклонение составляет 0.0097\")"
   ]
  },
  {
   "cell_type": "code",
   "execution_count": 236,
   "metadata": {
    "scrolled": false
   },
   "outputs": [
    {
     "data": {
      "image/png": "[encoded data removed]",
      "text/plain": [
       "<Figure size 720x720 with 1 Axes>"
      ]
     },
     "metadata": {
      "needs_background": "light"
     },
     "output_type": "display_data"
    }
   ],
   "source": [
    "import matplotlib.pyplot as plt\n",
    "\n",
    "plt.figure(figsize=(10,10))\n",
    "plt.grid()\n",
    "\n",
    "plt.scatter(predicted_y, \n",
    "            predicted_y,\n",
    "            color='red',\n",
    "            label='Предсказанное значение Y',\n",
    "            linewidth=4)\n",
    "\n",
    "plt.plot(y_normalized,\n",
    "         y_normalized,\n",
    "         color = 'blue',\n",
    "         label='Знечение Y')\n",
    "\n",
    "plt.title(\"Модель линейной регрессии\", fontweight='bold')\n",
    "plt.legend()\n",
    "plt.show()"
   ]
  },
  {
   "cell_type": "code",
   "execution_count": 237,
   "metadata": {
    "scrolled": false
   },
   "outputs": [
    {
     "name": "stdout",
     "output_type": "stream",
     "text": [
      "\n",
      "                             OLS Regression Results                            \n",
      "==============================================================================\n",
      "Dep. Variable:                      y   R-squared:                       1.000\n",
      "Model:                            OLS   Adj. R-squared:                  1.000\n",
      "Method:                 Least Squares   F-statistic:                 1.139e+06\n",
      "Date:                Mon, 09 Oct 2023   Prob (F-statistic):           7.69e-43\n",
      "Time:                        21:26:08   Log-Likelihood:                 88.267\n",
      "No. Observations:                  20   AIC:                            -168.5\n",
      "Df Residuals:                      16   BIC:                            -164.6\n",
      "Df Model:                           3                                         \n",
      "Covariance Type:            nonrobust                                         \n",
      "==============================================================================\n",
      "                 coef    std err          t      P>|t|      [0.025      0.975]\n",
      "------------------------------------------------------------------------------\n",
      "const         -5.0001      0.004  -1396.695      0.000      -5.008      -4.993\n",
      "t              4.9859      0.029    173.067      0.000       4.925       5.047\n",
      "t_square      -4.9655      0.063    -78.886      0.000      -5.099      -4.832\n",
      "t_cube         4.9775      0.039    126.112      0.000       4.894       5.061\n",
      "==============================================================================\n",
      "Omnibus:                        1.218   Durbin-Watson:                   2.310\n",
      "Prob(Omnibus):                  0.544   Jarque-Bera (JB):                0.864\n",
      "Skew:                           0.150   Prob(JB):                        0.649\n",
      "Kurtosis:                       2.027   Cond. No.                         135.\n",
      "==============================================================================\n",
      "\n",
      "Warnings:\n",
      "[1] Standard Errors assume that the covariance matrix of the errors is correctly specified.\n"
     ]
    }
   ],
   "source": [
    "import pandas as pd\n",
    "import statsmodels.api as sm\n",
    "\n",
    "alpha = (53 - 48) / 40\n",
    "t = [0.05, 0.1, 0.15, 0.2, 0.25, 0.3, 0.35, 0.4, 0.45, 0.5, 0.55, 0.6, 0.65, 0.7, 0.75, 0.8, 0.85, 0.9, 0.95, 1]\n",
    "t_square = [x ** 2 for x in t]\n",
    "t_cube = [x ** 3 for x in t]\n",
    "y_alpha = [-4.76, -4.55, -4.35, -4.16, -3.98, -3.82, -3.65, -3.48, -3.31, -3.13, -2.93, -2.72, -2.49, -2.24, -1.95, -1.64, -1.29, -0.91, -0.48, 0.00]\n",
    "y_normalized = [round(x - alpha, 3) for x in y_alpha]\n",
    "\n",
    "df = pd.DataFrame(\n",
    "{'t': t,\n",
    " 't_square': t_square,\n",
    " 't_cube': t_cube,\n",
    " 'y': y_alpha\n",
    "})\n",
    "\n",
    "# response variable\n",
    "y = df['y']\n",
    "\n",
    "# predictor variables\n",
    "x = df[['t', 't_square', 't_cube']]\n",
    "\n",
    "# add constant to predictor variables\n",
    "x = sm.add_constant(x)\n",
    "\n",
    "# fit linear regression model\n",
    "model = sm.OLS(y, x).fit()\n",
    "\n",
    "# view model summary\n",
    "print('\\n', model.summary())"
   ]
  },
  {
   "cell_type": "code",
   "execution_count": 238,
   "metadata": {
    "scrolled": false
   },
   "outputs": [
    {
     "name": "stdout",
     "output_type": "stream",
     "text": [
      "Предсказанное значение y:\n",
      "(1, -4.888)\n",
      "(2, -4.671)\n",
      "(3, -4.472)\n",
      "(4, -4.287)\n",
      "(5, -4.111)\n",
      "(6, -3.942)\n",
      "(7, -3.775)\n",
      "(8, -3.607)\n",
      "(9, -3.433)\n",
      "(10, -3.251)\n",
      "(11, -3.057)\n",
      "(12, -2.846)\n",
      "(13, -2.615)\n",
      "(14, -2.361)\n",
      "(15, -2.079)\n",
      "(16, -1.766)\n",
      "(17, -1.418)\n",
      "(18, -1.031)\n",
      "(19, -0.602)\n",
      "(20, -0.127)\n",
      "\n",
      "Значение y:\n",
      "(1, -4.885)\n",
      "(2, -4.675)\n",
      "(3, -4.475)\n",
      "(4, -4.285)\n",
      "(5, -4.105)\n",
      "(6, -3.945)\n",
      "(7, -3.775)\n",
      "(8, -3.605)\n",
      "(9, -3.435)\n",
      "(10, -3.255)\n",
      "(11, -3.055)\n",
      "(12, -2.845)\n",
      "(13, -2.615)\n",
      "(14, -2.365)\n",
      "(15, -2.075)\n",
      "(16, -1.765)\n",
      "(17, -1.415)\n",
      "(18, -1.035)\n",
      "(19, -0.605)\n",
      "(20, -0.125)\n",
      "\n",
      "Исходя из отчёта линейной регресии стандартное отклонение составляет 0.004\n"
     ]
    }
   ],
   "source": [
    "# Исходя из отчёта линейной регресии, уравнение тренда имеет вид: \n",
    "# y = -5.0001 + 4.9858 * t - 4.9655 * t^2 + 4.9775 * t^3\n",
    "# Стандартное отклонение: 0.004\n",
    "\n",
    "# Y-пересечение:\n",
    "dot = -5.125\n",
    "\n",
    "# Заполнение данных тренда:\n",
    "t_1 = [4.9858 * x for x in t]\n",
    "t_2 = [-4.9655 * x for x in t_square]\n",
    "t_3 = [4.9775 * x for x in t_cube]\n",
    "predicted_y = [dot + p[0] + p[1] + p[2] for p in zip(t_1, t_2, t_3)]\n",
    "\n",
    "# Вывод данных:\n",
    "print(\"Предсказанное значение y:\", *zip(range(1, 21), map(lambda x: round(x, 3), predicted_y)), sep='\\n', end='\\n\\n')\n",
    "print(\"Значение y:\",*zip(range(1, 21), y_normalized), sep='\\n')\n",
    "print(\"\\nИсходя из отчёта линейной регресии стандартное отклонение составляет 0.004\")"
   ]
  },
  {
   "cell_type": "code",
   "execution_count": 239,
   "metadata": {
    "scrolled": false
   },
   "outputs": [
    {
     "data": {
      "image/png": "[encoded data removed]",
      "text/plain": [
       "<Figure size 648x720 with 1 Axes>"
      ]
     },
     "metadata": {
      "needs_background": "light"
     },
     "output_type": "display_data"
    }
   ],
   "source": [
    "plt.figure(figsize=(9,10))\n",
    "plt.grid()\n",
    "\n",
    "plt.scatter(t, \n",
    "            predicted_y,\n",
    "            color='red',\n",
    "            label='Предсказанное значение Y',\n",
    "            linewidth=4)\n",
    "\n",
    "plt.plot(t,\n",
    "        y_normalized,\n",
    "        color = 'blue',\n",
    "        label='Знечение Y')\n",
    "\n",
    "plt.title(\"Модель полиномиальной регрессии\", fontweight='bold')\n",
    "plt.ylabel(\"Зависимое от параметра t - Y\")\n",
    "plt.xlabel('Параметр t')\n",
    "plt.legend()\n",
    "plt.show()"
   ]
  }
 ],
 "metadata": {
  "kernelspec": {
   "display_name": "Python 3",
   "language": "python",
   "name": "python3"
  },
  "language_info": {
   "codemirror_mode": {
    "name": "ipython",
    "version": 3
   },
   "file_extension": ".py",
   "mimetype": "text/x-python",
   "name": "python",
   "nbconvert_exporter": "python",
   "pygments_lexer": "ipython3",
   "version": "3.7.6"
  }
 },
 "nbformat": 4,
 "nbformat_minor": 4
}
